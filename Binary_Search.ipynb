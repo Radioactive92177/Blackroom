{
 "cells": [
  {
   "cell_type": "code",
   "execution_count": null,
   "metadata": {
    "collapsed": true,
    "pycharm": {
     "is_executing": true
    }
   },
   "outputs": [],
   "source": [
    "#Binary Search\n",
    "def binarySearch(lst, l, r,x):\n",
    "    while l <= r:\n",
    "        mid = 1+(r-1)//2\n",
    "        if lst[mid] == x:\n",
    "            return mid\n",
    "        elif lst[mid] < x:\n",
    "            l = mid + 1\n",
    "        else:\n",
    "            r = mid -1\n",
    "    return -1\n",
    "\n",
    "a = []\n",
    "b = int(input(\"Enter no of elements\"))\n",
    "for i in  range(b):\n",
    "    c = int(input(\"Enter number one by one\"))\n",
    "    a.append(c)\n",
    "x = int(input(\"enter element to be searched\"))\n",
    "result = binarySearch(a ,0 ,len(a)-1 , x)\n",
    "\n",
    "if result != -1:\n",
    "    print(\"Element is present at index %d\" % result)\n",
    "else:\n",
    "    print(\"Element is not present in list\")\n"
   ]
  }
 ],
 "metadata": {
  "kernelspec": {
   "display_name": "Python 3",
   "language": "python",
   "name": "python3"
  },
  "language_info": {
   "codemirror_mode": {
    "name": "ipython",
    "version": 2
   },
   "file_extension": ".py",
   "mimetype": "text/x-python",
   "name": "python",
   "nbconvert_exporter": "python",
   "pygments_lexer": "ipython2",
   "version": "2.7.6"
  },
  "pycharm": {
   "stem_cell": {
    "cell_type": "raw",
    "source": [],
    "metadata": {
     "collapsed": false
    }
   }
  }
 },
 "nbformat": 4,
 "nbformat_minor": 0
}